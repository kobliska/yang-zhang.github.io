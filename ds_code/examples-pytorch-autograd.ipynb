{
 "cells": [
  {
   "cell_type": "markdown",
   "metadata": {},
   "source": [
    "https://pytorch.org/tutorials/beginner/blitz/autograd_tutorial.html"
   ]
  },
  {
   "cell_type": "code",
   "execution_count": 71,
   "metadata": {},
   "outputs": [],
   "source": [
    "import torch"
   ]
  },
  {
   "cell_type": "markdown",
   "metadata": {},
   "source": [
    "## x 0-d, y 0-d "
   ]
  },
  {
   "cell_type": "code",
   "execution_count": 150,
   "metadata": {},
   "outputs": [
    {
     "name": "stdout",
     "output_type": "stream",
     "text": [
      "x.shape: torch.Size([]), x.grad: None\n",
      "y: 3.0; y.shape: torch.Size([])\n"
     ]
    }
   ],
   "source": [
    "x = torch.tensor(1.,requires_grad=True)\n",
    "print(f'x.shape: {x.shape}, x.grad: {x.grad}')\n",
    "y = 2*x + x**2\n",
    "print(f'y: {y}; y.shape: {y.shape}')"
   ]
  },
  {
   "cell_type": "code",
   "execution_count": 151,
   "metadata": {
    "scrolled": true
   },
   "outputs": [
    {
     "name": "stdout",
     "output_type": "stream",
     "text": [
      "x.grad: 4.0; type(x.grad): <class 'torch.Tensor'>, x.grad.shape: torch.Size([]), manual result: 4.0\n"
     ]
    }
   ],
   "source": [
    "x = torch.tensor(1.,requires_grad=True)\n",
    "y = 2*x + x**2\n",
    "y.backward()\n",
    "print(f'x.grad: {x.grad}; type(x.grad): {type(x.grad)}, x.grad.shape: {x.grad.shape}, manual result: {(2+2*x)}') "
   ]
  },
  {
   "cell_type": "code",
   "execution_count": 152,
   "metadata": {
    "scrolled": true
   },
   "outputs": [
    {
     "name": "stdout",
     "output_type": "stream",
     "text": [
      "x.grad: 4.0; type(x.grad): <class 'torch.Tensor'>, x.grad.shape: torch.Size([]), manual result: 4.0\n"
     ]
    }
   ],
   "source": [
    "x = torch.tensor(1.,requires_grad=True)\n",
    "y = 2*x + x**2\n",
    "gradient=torch.tensor(1.)\n",
    "y.backward(gradient=gradient)\n",
    "print(f'x.grad: {x.grad}; type(x.grad): {type(x.grad)}, x.grad.shape: {x.grad.shape}, manual result: {gradient*(2+2*x)}') "
   ]
  },
  {
   "cell_type": "code",
   "execution_count": 153,
   "metadata": {
    "scrolled": true
   },
   "outputs": [
    {
     "name": "stdout",
     "output_type": "stream",
     "text": [
      "x.grad: 400.0; type(x.grad): <class 'torch.Tensor'>, x.grad.shape: torch.Size([]), manual result: 400.0\n"
     ]
    }
   ],
   "source": [
    "x = torch.tensor(1.,requires_grad=True)\n",
    "y = 2*x + x**2\n",
    "gradient=torch.tensor(100.)\n",
    "y.backward(gradient=gradient)\n",
    "print(f'x.grad: {x.grad}; type(x.grad): {type(x.grad)}, x.grad.shape: {x.grad.shape}, manual result: {gradient*(2+2*x)}') "
   ]
  },
  {
   "cell_type": "markdown",
   "metadata": {},
   "source": [
    "## x.shape=[1], y.shape=[1]"
   ]
  },
  {
   "cell_type": "code",
   "execution_count": 154,
   "metadata": {
    "scrolled": false
   },
   "outputs": [
    {
     "name": "stdout",
     "output_type": "stream",
     "text": [
      "x.shape: torch.Size([1])\n",
      "y: tensor([3.], grad_fn=<AddBackward0>); y.shape: torch.Size([1])\n"
     ]
    }
   ],
   "source": [
    "x = torch.tensor([1.],requires_grad=True)\n",
    "print(f'x.shape: {x.shape}')\n",
    "y = 2*x + x**2\n",
    "print(f'y: {y}; y.shape: {y.shape}')"
   ]
  },
  {
   "cell_type": "code",
   "execution_count": 155,
   "metadata": {
    "scrolled": true
   },
   "outputs": [
    {
     "name": "stdout",
     "output_type": "stream",
     "text": [
      "x.grad: tensor([4.]); type(x.grad): <class 'torch.Tensor'>, x.grad.shape: torch.Size([1]), manual result: tensor([4.], grad_fn=<AddBackward0>)\n"
     ]
    }
   ],
   "source": [
    "x = torch.tensor([1.],requires_grad=True)\n",
    "y = 2*x + x**2\n",
    "y.backward()\n",
    "print(f'x.grad: {x.grad}; type(x.grad): {type(x.grad)}, x.grad.shape: {x.grad.shape}, manual result: {(2+2*x)}') "
   ]
  },
  {
   "cell_type": "code",
   "execution_count": 156,
   "metadata": {
    "scrolled": true
   },
   "outputs": [
    {
     "name": "stdout",
     "output_type": "stream",
     "text": [
      "x.grad: tensor([4.]); type(x.grad): <class 'torch.Tensor'>, x.grad.shape: torch.Size([1]), manual result: tensor([4.], grad_fn=<MulBackward0>)\n"
     ]
    }
   ],
   "source": [
    "x = torch.tensor([1.],requires_grad=True)\n",
    "y = 2*x + x**2\n",
    "gradient=torch.tensor([1.])\n",
    "y.backward(gradient=gradient)\n",
    "print(f'x.grad: {x.grad}; type(x.grad): {type(x.grad)}, x.grad.shape: {x.grad.shape}, manual result: {gradient*(2+2*x)}') "
   ]
  },
  {
   "cell_type": "code",
   "execution_count": 157,
   "metadata": {
    "scrolled": true
   },
   "outputs": [
    {
     "name": "stdout",
     "output_type": "stream",
     "text": [
      "x.grad: tensor([400.]); type(x.grad): <class 'torch.Tensor'>, x.grad.shape: torch.Size([1]), manual result: tensor([400.], grad_fn=<MulBackward0>)\n"
     ]
    }
   ],
   "source": [
    "x = torch.tensor([1.],requires_grad=True)\n",
    "y = 2*x + x**2\n",
    "gradient=torch.tensor([100.])\n",
    "y.backward(gradient=gradient)\n",
    "print(f'x.grad: {x.grad}; type(x.grad): {type(x.grad)}, x.grad.shape: {x.grad.shape}, manual result: {gradient*(2+2*x)}') "
   ]
  },
  {
   "cell_type": "markdown",
   "metadata": {},
   "source": [
    "## x.shape=[2], y 0d - Example 1"
   ]
  },
  {
   "cell_type": "code",
   "execution_count": 158,
   "metadata": {},
   "outputs": [
    {
     "name": "stdout",
     "output_type": "stream",
     "text": [
      "x: tensor([1., 2.], requires_grad=True), x.shape: torch.Size([2]), x.grad: None\n",
      "y.shape: torch.Size([])\n"
     ]
    }
   ],
   "source": [
    "x = torch.tensor([1., 2.],requires_grad=True)\n",
    "print(f'x: {x}, x.shape: {x.shape}, x.grad: {x.grad}')\n",
    "y = 2*x[0] + x[1]**2\n",
    "print(f'y.shape: {y.shape}')"
   ]
  },
  {
   "cell_type": "code",
   "execution_count": 159,
   "metadata": {},
   "outputs": [
    {
     "name": "stdout",
     "output_type": "stream",
     "text": [
      "x.grad: tensor([2., 4.]); type(x.grad): <class 'torch.Tensor'>, x.grad.shape: torch.Size([2]), manual result: [2, tensor(4., grad_fn=<MulBackward0>)]\n"
     ]
    }
   ],
   "source": [
    "x = torch.tensor([1., 2.],requires_grad=True)\n",
    "y = 2*x[0] + x[1]**2\n",
    "y.backward()\n",
    "print(f'x.grad: {x.grad}; type(x.grad): {type(x.grad)}, x.grad.shape: {x.grad.shape}, manual result: {[2,2*x[1]]}') "
   ]
  },
  {
   "cell_type": "code",
   "execution_count": 160,
   "metadata": {},
   "outputs": [
    {
     "name": "stdout",
     "output_type": "stream",
     "text": [
      "x.grad: tensor([200., 400.]); type(x.grad): <class 'torch.Tensor'>, x.grad.shape: torch.Size([2]), manual result: [tensor(200.), tensor(400., grad_fn=<MulBackward0>)]\n"
     ]
    }
   ],
   "source": [
    "x = torch.tensor([1., 2.],requires_grad=True)\n",
    "y = 2*x[0] + x[1]**2\n",
    "gradient=torch.tensor(100.)\n",
    "y.backward(gradient=gradient)\n",
    "print(f'x.grad: {x.grad}; type(x.grad): {type(x.grad)}, x.grad.shape: {x.grad.shape}, manual result: {[2*gradient,2*x[1]*gradient]}') "
   ]
  },
  {
   "cell_type": "markdown",
   "metadata": {},
   "source": [
    "## x.shape=[2], y 0d - Example 2"
   ]
  },
  {
   "cell_type": "code",
   "execution_count": 161,
   "metadata": {},
   "outputs": [
    {
     "name": "stdout",
     "output_type": "stream",
     "text": [
      "x: tensor([1., 2.], requires_grad=True), x.shape: torch.Size([2]), x.grad: None\n",
      "y.shape: torch.Size([])\n"
     ]
    }
   ],
   "source": [
    "x = torch.tensor([1., 2.],requires_grad=True)\n",
    "print(f'x: {x}, x.shape: {x.shape}, x.grad: {x.grad}')\n",
    "y = x.sum()\n",
    "print(f'y.shape: {y.shape}')"
   ]
  },
  {
   "cell_type": "code",
   "execution_count": 162,
   "metadata": {},
   "outputs": [
    {
     "name": "stdout",
     "output_type": "stream",
     "text": [
      "x.grad: tensor([1., 1.]); type(x.grad): <class 'torch.Tensor'>, x.grad.shape: torch.Size([2]), manual result: [1, 1]\n"
     ]
    }
   ],
   "source": [
    "x = torch.tensor([1., 2.],requires_grad=True)\n",
    "y = x.sum()\n",
    "y.backward()\n",
    "print(f'x.grad: {x.grad}; type(x.grad): {type(x.grad)}, x.grad.shape: {x.grad.shape}, manual result: {[1,1]}') "
   ]
  },
  {
   "cell_type": "code",
   "execution_count": 163,
   "metadata": {
    "scrolled": true
   },
   "outputs": [
    {
     "name": "stdout",
     "output_type": "stream",
     "text": [
      "x.grad: tensor([100., 100.]); type(x.grad): <class 'torch.Tensor'>, x.grad.shape: torch.Size([2]), manual result: [tensor(100.), tensor(100.)]\n"
     ]
    }
   ],
   "source": [
    "x = torch.tensor([1., 2.],requires_grad=True)\n",
    "y = x.sum()\n",
    "gradient=torch.tensor(100.)\n",
    "y.backward(gradient=gradient)\n",
    "print(f'x.grad: {x.grad}; type(x.grad): {type(x.grad)}, x.grad.shape: {x.grad.shape}, manual result: {[1*gradient,1*gradient]}') "
   ]
  },
  {
   "cell_type": "markdown",
   "metadata": {},
   "source": [
    "## x.shape=[2,1], y.shape=[1, 1]"
   ]
  },
  {
   "cell_type": "code",
   "execution_count": 218,
   "metadata": {},
   "outputs": [
    {
     "name": "stdout",
     "output_type": "stream",
     "text": [
      "a.shape: torch.Size([1, 2])\n",
      "x.shape: torch.Size([2, 1])\n",
      "y: tensor([[13.]], grad_fn=<MmBackward>); y.shape: torch.Size([1, 1])\n"
     ]
    }
   ],
   "source": [
    "a = torch.tensor([[1., 2.]],requires_grad=True)\n",
    "print(f'a.shape: {a.shape}')\n",
    "x = torch.tensor([[3.],[5]])\n",
    "print(f'x.shape: {x.shape}')\n",
    "y = torch.mm(a, x)\n",
    "print(f'y: {y}; y.shape: {y.shape}')"
   ]
  },
  {
   "cell_type": "code",
   "execution_count": 219,
   "metadata": {},
   "outputs": [
    {
     "name": "stdout",
     "output_type": "stream",
     "text": [
      "x.grad: tensor([[1.],\n",
      "        [2.]]); type(x.grad): <class 'torch.Tensor'>, x.grad.shape: torch.Size([2, 1])\n"
     ]
    }
   ],
   "source": [
    "a = torch.tensor([[1., 2.]])\n",
    "x = torch.tensor([[3.],[5]],requires_grad=True)\n",
    "y = torch.mm(a, x)\n",
    "y.backward()\n",
    "print(f'x.grad: {x.grad}; type(x.grad): {type(x.grad)}, x.grad.shape: {x.grad.shape}') "
   ]
  },
  {
   "cell_type": "code",
   "execution_count": 220,
   "metadata": {},
   "outputs": [
    {
     "name": "stdout",
     "output_type": "stream",
     "text": [
      "gradient.shape: torch.Size([1, 1])\n",
      "x.grad: tensor([[100.],\n",
      "        [200.]]); type(x.grad): <class 'torch.Tensor'>, x.grad.shape: torch.Size([2, 1])\n"
     ]
    }
   ],
   "source": [
    "a = torch.tensor([[1., 2.]])\n",
    "x = torch.tensor([[3.],[5]],requires_grad=True)\n",
    "y = torch.mm(a, x)\n",
    "gradient = torch.tensor([[100.]])\n",
    "print(f'gradient.shape: {gradient.shape}')\n",
    "y.backward(gradient=gradient)\n",
    "print(f'x.grad: {x.grad}; type(x.grad): {type(x.grad)}, x.grad.shape: {x.grad.shape}') "
   ]
  },
  {
   "cell_type": "code",
   "execution_count": 221,
   "metadata": {},
   "outputs": [
    {
     "name": "stdout",
     "output_type": "stream",
     "text": [
      "gradient.shape: torch.Size([1, 2])\n",
      "x.grad: tensor([[400.],\n",
      "        [800.]]); type(x.grad): <class 'torch.Tensor'>, x.grad.shape: torch.Size([2, 1])\n"
     ]
    }
   ],
   "source": [
    "a = torch.tensor([[1., 2.]])\n",
    "x = torch.tensor([[3.],[5]],requires_grad=True)\n",
    "y = torch.mm(a, x)\n",
    "gradient = torch.tensor([[100., 300]])\n",
    "print(f'gradient.shape: {gradient.shape}')\n",
    "y.backward(gradient=gradient)\n",
    "print(f'x.grad: {x.grad}; type(x.grad): {type(x.grad)}, x.grad.shape: {x.grad.shape}') "
   ]
  },
  {
   "cell_type": "code",
   "execution_count": 222,
   "metadata": {},
   "outputs": [
    {
     "name": "stdout",
     "output_type": "stream",
     "text": [
      "gradient.shape: torch.Size([2, 1])\n",
      "x.grad: tensor([[400.],\n",
      "        [800.]]); type(x.grad): <class 'torch.Tensor'>, x.grad.shape: torch.Size([2, 1])\n"
     ]
    }
   ],
   "source": [
    "a = torch.tensor([[1., 2.]])\n",
    "x = torch.tensor([[3.],[5]],requires_grad=True)\n",
    "y = torch.mm(a, x)\n",
    "gradient = torch.tensor([[100.], [300]])\n",
    "print(f'gradient.shape: {gradient.shape}')\n",
    "y.backward(gradient=gradient)\n",
    "print(f'x.grad: {x.grad}; type(x.grad): {type(x.grad)}, x.grad.shape: {x.grad.shape}') "
   ]
  },
  {
   "cell_type": "markdown",
   "metadata": {},
   "source": [
    "## x.shape=[2], y.shape=[2]"
   ]
  },
  {
   "cell_type": "code",
   "execution_count": 166,
   "metadata": {},
   "outputs": [
    {
     "name": "stdout",
     "output_type": "stream",
     "text": [
      "x: tensor([1., 2.], requires_grad=True), x.shape: torch.Size([2]), x.grad: None\n",
      "y.shape: torch.Size([2])\n"
     ]
    }
   ],
   "source": [
    "x = torch.tensor([1., 2.],requires_grad=True)\n",
    "print(f'x: {x}, x.shape: {x.shape}, x.grad: {x.grad}')\n",
    "y = 2*x\n",
    "print(f'y.shape: {y.shape}')"
   ]
  },
  {
   "cell_type": "code",
   "execution_count": 167,
   "metadata": {},
   "outputs": [],
   "source": [
    "# x = torch.tensor([1., 2.],requires_grad=True)\n",
    "# y = 2*x\n",
    "# y.backward()\n",
    "# RuntimeError: grad can be implicitly created only for scalar outputs"
   ]
  },
  {
   "cell_type": "code",
   "execution_count": 168,
   "metadata": {},
   "outputs": [
    {
     "name": "stdout",
     "output_type": "stream",
     "text": [
      "x.grad:tensor([3.1400, 3.1400]); type(x.grad):<class 'torch.Tensor'>, x.grad.shape:torch.Size([2])\n"
     ]
    }
   ],
   "source": [
    "x = torch.tensor([1., 2.],requires_grad=True)\n",
    "y = 3.14*x\n",
    "y.backward(torch.tensor([1.,1.]))\n",
    "print(f'x.grad:{x.grad}; type(x.grad):{type(x.grad)}, x.grad.shape:{x.grad.shape}') "
   ]
  },
  {
   "cell_type": "code",
   "execution_count": 169,
   "metadata": {},
   "outputs": [
    {
     "name": "stdout",
     "output_type": "stream",
     "text": [
      "x.grad:tensor([ 31.4000, 314.0000]); type(x.grad):<class 'torch.Tensor'>, x.grad.shape:torch.Size([2])\n"
     ]
    }
   ],
   "source": [
    "x = torch.tensor([1., 2.],requires_grad=True)\n",
    "y = 3.14*x\n",
    "y.backward(torch.tensor([10.,100.]))\n",
    "print(f'x.grad:{x.grad}; type(x.grad):{type(x.grad)}, x.grad.shape:{x.grad.shape}') "
   ]
  },
  {
   "cell_type": "code",
   "execution_count": null,
   "metadata": {},
   "outputs": [],
   "source": []
  },
  {
   "cell_type": "code",
   "execution_count": null,
   "metadata": {},
   "outputs": [],
   "source": []
  },
  {
   "cell_type": "code",
   "execution_count": null,
   "metadata": {},
   "outputs": [],
   "source": []
  }
 ],
 "metadata": {
  "kernelspec": {
   "display_name": "fastaiv1-cpu",
   "language": "python",
   "name": "fastaiv1-cpu"
  },
  "language_info": {
   "codemirror_mode": {
    "name": "ipython",
    "version": 3
   },
   "file_extension": ".py",
   "mimetype": "text/x-python",
   "name": "python",
   "nbconvert_exporter": "python",
   "pygments_lexer": "ipython3",
   "version": "3.7.0"
  },
  "toc": {
   "base_numbering": 1,
   "nav_menu": {},
   "number_sections": true,
   "sideBar": true,
   "skip_h1_title": false,
   "title_cell": "Table of Contents",
   "title_sidebar": "Contents",
   "toc_cell": false,
   "toc_position": {},
   "toc_section_display": true,
   "toc_window_display": false
  }
 },
 "nbformat": 4,
 "nbformat_minor": 2
}
