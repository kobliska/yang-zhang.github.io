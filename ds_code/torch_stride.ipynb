{
 "cells": [
  {
   "cell_type": "code",
   "execution_count": 150,
   "metadata": {},
   "outputs": [
    {
     "data": {
      "text/plain": [
       "'1.4.0'"
      ]
     },
     "execution_count": 150,
     "metadata": {},
     "output_type": "execute_result"
    }
   ],
   "source": [
    "import torch\n",
    "torch.__version__"
   ]
  },
  {
   "cell_type": "code",
   "execution_count": 151,
   "metadata": {},
   "outputs": [
    {
     "data": {
      "text/plain": [
       "tensor([[ 0,  1,  2,  3],\n",
       "        [ 4,  5,  6,  7],\n",
       "        [ 8,  9, 10, 11]])"
      ]
     },
     "execution_count": 151,
     "metadata": {},
     "output_type": "execute_result"
    }
   ],
   "source": [
    "x = torch.arange(12).view((3,4))\n",
    "storage = x.storage()\n",
    "stride  = x.stride()\n",
    "x"
   ]
  },
  {
   "cell_type": "code",
   "execution_count": 152,
   "metadata": {},
   "outputs": [
    {
     "data": {
      "text/plain": [
       " 0\n",
       " 1\n",
       " 2\n",
       " 3\n",
       " 4\n",
       " 5\n",
       " 6\n",
       " 7\n",
       " 8\n",
       " 9\n",
       " 10\n",
       " 11\n",
       "[torch.LongStorage of size 12]"
      ]
     },
     "execution_count": 152,
     "metadata": {},
     "output_type": "execute_result"
    }
   ],
   "source": [
    "storage"
   ]
  },
  {
   "cell_type": "code",
   "execution_count": 153,
   "metadata": {},
   "outputs": [
    {
     "data": {
      "text/plain": [
       "(4, 1)"
      ]
     },
     "execution_count": 153,
     "metadata": {},
     "output_type": "execute_result"
    }
   ],
   "source": [
    "stride"
   ]
  },
  {
   "cell_type": "code",
   "execution_count": 154,
   "metadata": {},
   "outputs": [
    {
     "data": {
      "text/plain": [
       "9"
      ]
     },
     "execution_count": 154,
     "metadata": {},
     "output_type": "execute_result"
    }
   ],
   "source": [
    "idx = (2, 1)\n",
    "item = x[idx].item()\n",
    "item"
   ]
  },
  {
   "cell_type": "code",
   "execution_count": 155,
   "metadata": {},
   "outputs": [
    {
     "data": {
      "text/plain": [
       "9"
      ]
     },
     "execution_count": 155,
     "metadata": {},
     "output_type": "execute_result"
    }
   ],
   "source": [
    "loc = idx[0]*stride[0] + idx[1]*stride[1]\n",
    "loc"
   ]
  },
  {
   "cell_type": "code",
   "execution_count": 145,
   "metadata": {},
   "outputs": [
    {
     "data": {
      "text/plain": [
       "(11, True)"
      ]
     },
     "execution_count": 145,
     "metadata": {},
     "output_type": "execute_result"
    }
   ],
   "source": [
    "loc = sum([i*s for i,s in zip(idx, stride)])\n",
    "loc, storage[loc]==item"
   ]
  },
  {
   "cell_type": "code",
   "execution_count": null,
   "metadata": {},
   "outputs": [],
   "source": []
  },
  {
   "cell_type": "code",
   "execution_count": 146,
   "metadata": {},
   "outputs": [
    {
     "data": {
      "text/plain": [
       "(120, 4, 1)"
      ]
     },
     "execution_count": 146,
     "metadata": {},
     "output_type": "execute_result"
    }
   ],
   "source": [
    "x = torch.rand(1200).view((10, 30, 4))\n",
    "storage = x.storage()\n",
    "stride  = x.stride()\n",
    "stride"
   ]
  },
  {
   "cell_type": "code",
   "execution_count": 147,
   "metadata": {},
   "outputs": [
    {
     "data": {
      "text/plain": [
       "(574, True)"
      ]
     },
     "execution_count": 147,
     "metadata": {},
     "output_type": "execute_result"
    }
   ],
   "source": [
    "idx = (4, 23, 2)\n",
    "item = x[idx].item()\n",
    "loc = sum([i*s for i,s in zip(idx, stride)])\n",
    "loc, storage[loc]==item"
   ]
  },
  {
   "cell_type": "markdown",
   "metadata": {},
   "source": [
    "## expand v.s. repeat"
   ]
  },
  {
   "cell_type": "code",
   "execution_count": 157,
   "metadata": {},
   "outputs": [
    {
     "data": {
      "text/plain": [
       "(tensor([[0, 1, 2]]),\n",
       "  0\n",
       "  1\n",
       "  2\n",
       " [torch.LongStorage of size 3],\n",
       " (3, 1))"
      ]
     },
     "execution_count": 157,
     "metadata": {},
     "output_type": "execute_result"
    }
   ],
   "source": [
    "x = torch.tensor([[0, 1, 2]])#torch.arange(3).view(1,3)\n",
    "xstorage = x.storage()\n",
    "xstride  = x.stride()\n",
    "x, xstorage, xstride"
   ]
  },
  {
   "cell_type": "code",
   "execution_count": 158,
   "metadata": {},
   "outputs": [
    {
     "name": "stdout",
     "output_type": "stream",
     "text": [
      "y: tensor([[0, 1, 2],\n",
      "        [0, 1, 2]])\n",
      "ystorage:  0\n",
      " 1\n",
      " 2\n",
      "[torch.LongStorage of size 3]\n",
      "ystride: (0, 1)\n"
     ]
    }
   ],
   "source": [
    "y = x.expand(2, 3)\n",
    "ystorage = y.storage()\n",
    "ystride  = y.stride()\n",
    "print('y:', y)\n",
    "print('ystorage:', ystorage)\n",
    "print('ystride:', ystride)"
   ]
  },
  {
   "cell_type": "code",
   "execution_count": 159,
   "metadata": {},
   "outputs": [
    {
     "name": "stdout",
     "output_type": "stream",
     "text": [
      "z: tensor([[0, 1, 2],\n",
      "        [0, 1, 2]])\n",
      "zstorage:  0\n",
      " 1\n",
      " 2\n",
      " 0\n",
      " 1\n",
      " 2\n",
      "[torch.LongStorage of size 6]\n",
      "zstride: (3, 1)\n"
     ]
    }
   ],
   "source": [
    "z = x.repeat(2, 1)\n",
    "zstorage = z.storage()\n",
    "zstride  = z.stride()\n",
    "print('z:', z)\n",
    "print('zstorage:', zstorage)\n",
    "print('zstride:', zstride)"
   ]
  },
  {
   "cell_type": "code",
   "execution_count": 164,
   "metadata": {},
   "outputs": [
    {
     "name": "stdout",
     "output_type": "stream",
     "text": [
      "y[idx].item(): 2, z[idx].item(): 2\n",
      "yloc: 2, zloc: 5\n",
      "ystorage[yloc]: 2, zstorage[zloc]: 2\n"
     ]
    }
   ],
   "source": [
    "idx = (1,2)\n",
    "yloc = sum([i*s for i,s in zip(idx, ystride)])\n",
    "zloc = sum([i*s for i,s in zip(idx, zstride)])\n",
    "assert y[idx].item()==ystorage[yloc]\n",
    "assert z[idx].item()==zstorage[zloc]\n",
    "\n",
    "print(f'y[idx].item(): {y[idx].item()}, z[idx].item(): {z[idx].item()}')\n",
    "print(f'yloc: {yloc}, zloc: {zloc}')\n",
    "print(f'ystorage[yloc]: {ystorage[yloc]}, zstorage[zloc]: {zstorage[zloc]}',)"
   ]
  },
  {
   "cell_type": "code",
   "execution_count": 163,
   "metadata": {},
   "outputs": [],
   "source": []
  },
  {
   "cell_type": "code",
   "execution_count": null,
   "metadata": {},
   "outputs": [],
   "source": []
  },
  {
   "cell_type": "code",
   "execution_count": null,
   "metadata": {},
   "outputs": [],
   "source": []
  },
  {
   "cell_type": "code",
   "execution_count": null,
   "metadata": {},
   "outputs": [],
   "source": []
  }
 ],
 "metadata": {
  "kernelspec": {
   "display_name": "Python 3",
   "language": "python",
   "name": "python3"
  },
  "language_info": {
   "codemirror_mode": {
    "name": "ipython",
    "version": 3
   },
   "file_extension": ".py",
   "mimetype": "text/x-python",
   "name": "python",
   "nbconvert_exporter": "python",
   "pygments_lexer": "ipython3",
   "version": "3.7.7"
  },
  "toc": {
   "base_numbering": 1,
   "nav_menu": {},
   "number_sections": true,
   "sideBar": true,
   "skip_h1_title": false,
   "title_cell": "Table of Contents",
   "title_sidebar": "Contents",
   "toc_cell": false,
   "toc_position": {},
   "toc_section_display": true,
   "toc_window_display": false
  }
 },
 "nbformat": 4,
 "nbformat_minor": 4
}
