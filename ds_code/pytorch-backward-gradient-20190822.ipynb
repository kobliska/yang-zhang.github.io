{
 "cells": [
  {
   "cell_type": "code",
   "execution_count": 137,
   "metadata": {},
   "outputs": [],
   "source": [
    "from torch import tensor\n",
    "import torch\n",
    "import numpy as np"
   ]
  },
  {
   "cell_type": "markdown",
   "metadata": {},
   "source": [
    "scalar in, scalar out"
   ]
  },
  {
   "cell_type": "code",
   "execution_count": 109,
   "metadata": {
    "scrolled": true
   },
   "outputs": [
    {
     "name": "stdout",
     "output_type": "stream",
     "text": [
      "y: tensor([1.], grad_fn=<PowBackward0>)\n",
      "x.grad: tensor([2.])\n",
      "vᵀ: [[1.]]\n",
      "J:\n",
      "[[2.]]\n",
      "vᵀ・J:\n",
      "[[2.]]\n"
     ]
    }
   ],
   "source": [
    "x = tensor([1.,], requires_grad=True)\n",
    "y = x**2\n",
    "print('y:', y)\n",
    "y.backward()\n",
    "print('x.grad:', x.grad)\n",
    "vᵀ = np.array([[1.]])\n",
    "J = np.array([[2.]])\n",
    "print('vᵀ:', vᵀ)\n",
    "print('J:')\n",
    "print(J)\n",
    "print('vᵀ・J:')\n",
    "print(vᵀ@J)"
   ]
  },
  {
   "cell_type": "markdown",
   "metadata": {},
   "source": [
    "scalar in, scalar out; non-one gradient"
   ]
  },
  {
   "cell_type": "code",
   "execution_count": 135,
   "metadata": {
    "scrolled": true
   },
   "outputs": [
    {
     "name": "stdout",
     "output_type": "stream",
     "text": [
      "y: tensor([1.], grad_fn=<PowBackward0>)\n",
      "x.grad: tensor([200.])\n",
      "vᵀ: [[100.]]\n",
      "J:\n",
      "[[2.]]\n",
      "vᵀ・J:\n",
      "[[200.]]\n"
     ]
    }
   ],
   "source": [
    "x = tensor([1.,], requires_grad=True)\n",
    "y = x**2\n",
    "print('y:', y)\n",
    "y.backward(tensor([100.]))\n",
    "print('x.grad:', x.grad)\n",
    "vᵀ = np.array([[100.]])\n",
    "J = np.array([[2.]])\n",
    "print('vᵀ:', vᵀ)\n",
    "print('J:')\n",
    "print(J)\n",
    "print('vᵀ・J:')\n",
    "print(vᵀ@J)"
   ]
  },
  {
   "cell_type": "markdown",
   "metadata": {},
   "source": [
    "scalar in, scalar out; broadcast"
   ]
  },
  {
   "cell_type": "code",
   "execution_count": 110,
   "metadata": {},
   "outputs": [
    {
     "name": "stdout",
     "output_type": "stream",
     "text": [
      "y: tensor([1.], grad_fn=<PowBackward0>)\n",
      "x.grad: tensor([4.])\n",
      "vᵀ: [[1. 1.]]\n",
      "J:\n",
      "[[2.]\n",
      " [2.]]\n",
      "vᵀ・J:\n",
      "[[4.]]\n"
     ]
    }
   ],
   "source": [
    "x = tensor([1.,], requires_grad=True)\n",
    "y = x**2\n",
    "print('y:', y)\n",
    "y.backward(tensor([1.,1.]))\n",
    "print('x.grad:', x.grad)\n",
    "vᵀ = np.array([[1., 1.]])\n",
    "J = np.array([[2.], [2.]])\n",
    "print('vᵀ:', vᵀ)\n",
    "print('J:')\n",
    "print(J)\n",
    "print('vᵀ・J:')\n",
    "print(vᵀ@J)"
   ]
  },
  {
   "cell_type": "markdown",
   "metadata": {},
   "source": [
    "vector in, vector out"
   ]
  },
  {
   "cell_type": "code",
   "execution_count": 111,
   "metadata": {
    "scrolled": true
   },
   "outputs": [
    {
     "name": "stdout",
     "output_type": "stream",
     "text": [
      "y: tensor([1., 4.], grad_fn=<PowBackward0>)\n",
      "x.grad: tensor([2., 4.])\n",
      "vᵀ: [[1. 1.]]\n",
      "J:\n",
      "[[2. 0.]\n",
      " [0. 4.]]\n",
      "vᵀ・J:\n",
      "[[2. 4.]]\n"
     ]
    }
   ],
   "source": [
    "x = tensor([1., 2.], requires_grad=True)\n",
    "y = x**2\n",
    "print('y:', y)\n",
    "y.backward(tensor([1.,1.]))\n",
    "print('x.grad:', x.grad)\n",
    "vᵀ = np.array([[1., 1.]])\n",
    "J = np.array([[2., 0], [0, 4]])\n",
    "print('vᵀ:', vᵀ)\n",
    "print('J:')\n",
    "print(J)\n",
    "print('vᵀ・J:')\n",
    "print(vᵀ@J)"
   ]
  },
  {
   "cell_type": "markdown",
   "metadata": {},
   "source": [
    "vector in, vector out;  non-one gradient"
   ]
  },
  {
   "cell_type": "code",
   "execution_count": 136,
   "metadata": {},
   "outputs": [
    {
     "name": "stdout",
     "output_type": "stream",
     "text": [
      "y: tensor([1., 4.], grad_fn=<PowBackward0>)\n",
      "x.grad: tensor([ 2., 40.])\n",
      "vᵀ: [[ 1. 10.]]\n",
      "J:\n",
      "[[2. 0.]\n",
      " [0. 4.]]\n",
      "vᵀ・J:\n",
      "[[ 2. 40.]]\n"
     ]
    }
   ],
   "source": [
    "x = tensor([1., 2.], requires_grad=True)\n",
    "y = x**2\n",
    "print('y:', y)\n",
    "y.backward(tensor([1.,10.]))\n",
    "print('x.grad:', x.grad)\n",
    "vᵀ = np.array([[1., 10.]])\n",
    "J = np.array([[2., 0], [0, 4]])\n",
    "print('vᵀ:', vᵀ)\n",
    "print('J:')\n",
    "print(J)\n",
    "print('vᵀ・J:')\n",
    "print(vᵀ@J)"
   ]
  },
  {
   "cell_type": "markdown",
   "metadata": {},
   "source": [
    "vector in, scalar out"
   ]
  },
  {
   "cell_type": "code",
   "execution_count": 132,
   "metadata": {},
   "outputs": [
    {
     "name": "stdout",
     "output_type": "stream",
     "text": [
      "y: tensor(3., grad_fn=<AddBackward0>)\n",
      "x.grad: tensor([1., 1.])\n",
      "vᵀ: [[1.]]\n",
      "J:\n",
      "[[1. 1.]]\n",
      "vᵀ・J:\n",
      "[[1. 1.]]\n"
     ]
    }
   ],
   "source": [
    "x = tensor([1., 2.], requires_grad=True)\n",
    "y = sum(x)\n",
    "print('y:', y)\n",
    "y.backward()\n",
    "print('x.grad:', x.grad)\n",
    "vᵀ = np.array([[1.,]])\n",
    "J = np.array([[1., 1.]])\n",
    "print('vᵀ:', vᵀ)\n",
    "print('J:')\n",
    "print(J)\n",
    "print('vᵀ・J:')\n",
    "print(vᵀ@J)"
   ]
  },
  {
   "cell_type": "markdown",
   "metadata": {},
   "source": [
    "vector in, scalar out; broadcast"
   ]
  },
  {
   "cell_type": "code",
   "execution_count": 134,
   "metadata": {},
   "outputs": [
    {
     "name": "stdout",
     "output_type": "stream",
     "text": [
      "y: tensor(3., grad_fn=<AddBackward0>)\n",
      "x.grad: tensor([1101., 1101.])\n",
      "vᵀ: [[   1.  100. 1000.]]\n",
      "J:\n",
      "[[1. 1.]\n",
      " [1. 1.]\n",
      " [1. 1.]]\n",
      "vᵀ・J:\n",
      "[[1101. 1101.]]\n"
     ]
    }
   ],
   "source": [
    "x = tensor([1., 2.], requires_grad=True)\n",
    "y = sum(x)\n",
    "print('y:', y)\n",
    "y.backward(tensor([1., 100, 1000]))\n",
    "print('x.grad:', x.grad)\n",
    "vᵀ = np.array([[1.,100, 1000]])\n",
    "J = np.array([[1., 1.], [1., 1.], [1., 1.]])\n",
    "print('vᵀ:', vᵀ)\n",
    "print('J:')\n",
    "print(J)\n",
    "print('vᵀ・J:')\n",
    "print(vᵀ@J)"
   ]
  },
  {
   "cell_type": "markdown",
   "metadata": {},
   "source": [
    "scalar in, vector out"
   ]
  },
  {
   "cell_type": "code",
   "execution_count": 143,
   "metadata": {},
   "outputs": [
    {
     "name": "stdout",
     "output_type": "stream",
     "text": [
      "y: tensor([3., 1.], grad_fn=<CatBackward>)\n",
      "x.grad: tensor([5.])\n",
      "vᵀ: [[1. 1.]]\n",
      "J:\n",
      "[[3.]\n",
      " [2.]]\n",
      "vᵀ・J:\n",
      "[[5.]]\n"
     ]
    }
   ],
   "source": [
    "x = tensor([1.,], requires_grad=True)\n",
    "y = torch.cat((3*x, x**2))\n",
    "print('y:', y)\n",
    "y.backward(tensor([1., 1.]))\n",
    "print('x.grad:', x.grad)\n",
    "vᵀ = np.array([[1.,1.]])\n",
    "J = np.array([[3.,],[2]])\n",
    "print('vᵀ:', vᵀ)\n",
    "print('J:')\n",
    "print(J)\n",
    "print('vᵀ・J:')\n",
    "print(vᵀ@J)"
   ]
  },
  {
   "cell_type": "code",
   "execution_count": null,
   "metadata": {},
   "outputs": [],
   "source": []
  },
  {
   "cell_type": "code",
   "execution_count": null,
   "metadata": {},
   "outputs": [],
   "source": []
  },
  {
   "cell_type": "code",
   "execution_count": null,
   "metadata": {},
   "outputs": [],
   "source": []
  },
  {
   "cell_type": "code",
   "execution_count": null,
   "metadata": {},
   "outputs": [],
   "source": []
  },
  {
   "cell_type": "code",
   "execution_count": null,
   "metadata": {},
   "outputs": [],
   "source": []
  },
  {
   "cell_type": "code",
   "execution_count": null,
   "metadata": {},
   "outputs": [],
   "source": []
  },
  {
   "cell_type": "code",
   "execution_count": null,
   "metadata": {},
   "outputs": [],
   "source": []
  },
  {
   "cell_type": "code",
   "execution_count": null,
   "metadata": {},
   "outputs": [],
   "source": []
  },
  {
   "cell_type": "code",
   "execution_count": null,
   "metadata": {},
   "outputs": [],
   "source": []
  },
  {
   "cell_type": "markdown",
   "metadata": {},
   "source": [
    "# old"
   ]
  },
  {
   "cell_type": "code",
   "execution_count": null,
   "metadata": {},
   "outputs": [],
   "source": [
    "v"
   ]
  },
  {
   "cell_type": "code",
   "execution_count": 39,
   "metadata": {},
   "outputs": [
    {
     "data": {
      "text/plain": [
       "tensor([1.], grad_fn=<PowBackward0>)"
      ]
     },
     "metadata": {},
     "output_type": "display_data"
    },
    {
     "data": {
      "text/plain": [
       "tensor([4.])"
      ]
     },
     "metadata": {},
     "output_type": "display_data"
    },
    {
     "ename": "RuntimeError",
     "evalue": "size mismatch, [2 x 1], [2] at /Users/administrator/nightlies/2018_11_30/wheel_build_dirs/conda_3.7/conda/conda-bld/pytorch-nightly_1543580748233/work/aten/src/TH/generic/THTensorMath.cpp:815",
     "output_type": "error",
     "traceback": [
      "\u001b[0;31m---------------------------------------------------------------------------\u001b[0m",
      "\u001b[0;31mRuntimeError\u001b[0m                              Traceback (most recent call last)",
      "\u001b[0;32m<ipython-input-39-30577e6db030>\u001b[0m in \u001b[0;36m<module>\u001b[0;34m\u001b[0m\n\u001b[1;32m      7\u001b[0m \u001b[0mvT\u001b[0m \u001b[0;34m=\u001b[0m \u001b[0mv\u001b[0m\u001b[0;34m.\u001b[0m\u001b[0mt\u001b[0m\u001b[0;34m(\u001b[0m\u001b[0;34m)\u001b[0m\u001b[0;34m\u001b[0m\u001b[0m\n\u001b[1;32m      8\u001b[0m \u001b[0mJ\u001b[0m \u001b[0;34m=\u001b[0m \u001b[0mtensor\u001b[0m\u001b[0;34m(\u001b[0m\u001b[0;34m[\u001b[0m\u001b[0;36m2.\u001b[0m\u001b[0;34m,\u001b[0m \u001b[0;36m2.\u001b[0m\u001b[0;34m]\u001b[0m\u001b[0;34m)\u001b[0m\u001b[0;34m\u001b[0m\u001b[0m\n\u001b[0;32m----> 9\u001b[0;31m \u001b[0mmatmul\u001b[0m\u001b[0;34m(\u001b[0m\u001b[0mvT\u001b[0m\u001b[0;34m,\u001b[0m\u001b[0mJ\u001b[0m\u001b[0;34m)\u001b[0m\u001b[0;34m\u001b[0m\u001b[0m\n\u001b[0m",
      "\u001b[0;31mRuntimeError\u001b[0m: size mismatch, [2 x 1], [2] at /Users/administrator/nightlies/2018_11_30/wheel_build_dirs/conda_3.7/conda/conda-bld/pytorch-nightly_1543580748233/work/aten/src/TH/generic/THTensorMath.cpp:815"
     ]
    }
   ],
   "source": [
    "x = tensor([1.], requires_grad=True)\n",
    "y = x**2\n",
    "display(y)\n",
    "v = tensor([[1., 1.]])\n",
    "y.backward(v)\n",
    "display(x.grad)\n",
    "vT = v.t()\n",
    "J = tensor([2., 2.])\n",
    "matmul(vT,J)"
   ]
  },
  {
   "cell_type": "code",
   "execution_count": 27,
   "metadata": {},
   "outputs": [
    {
     "data": {
      "text/plain": [
       "tensor([1.], grad_fn=<PowBackward0>)"
      ]
     },
     "metadata": {},
     "output_type": "display_data"
    },
    {
     "data": {
      "text/plain": [
       "tensor([2.])"
      ]
     },
     "metadata": {},
     "output_type": "display_data"
    },
    {
     "data": {
      "text/plain": [
       "tensor(2.)"
      ]
     },
     "execution_count": 27,
     "metadata": {},
     "output_type": "execute_result"
    }
   ],
   "source": [
    "x = tensor([1.], requires_grad=True)\n",
    "y = x**2\n",
    "display(y)\n",
    "y.backward()\n",
    "display(x.grad)\n",
    "vT = tensor([1.])\n",
    "J = tensor([2.])\n",
    "matmul(vT,J)"
   ]
  },
  {
   "cell_type": "code",
   "execution_count": null,
   "metadata": {},
   "outputs": [],
   "source": []
  },
  {
   "cell_type": "code",
   "execution_count": null,
   "metadata": {},
   "outputs": [],
   "source": []
  },
  {
   "cell_type": "code",
   "execution_count": null,
   "metadata": {},
   "outputs": [],
   "source": []
  },
  {
   "cell_type": "code",
   "execution_count": 28,
   "metadata": {},
   "outputs": [
    {
     "data": {
      "text/plain": [
       "tensor([1.], grad_fn=<PowBackward0>)"
      ]
     },
     "metadata": {},
     "output_type": "display_data"
    },
    {
     "data": {
      "text/plain": [
       "tensor([4.])"
      ]
     },
     "metadata": {},
     "output_type": "display_data"
    },
    {
     "data": {
      "text/plain": [
       "tensor([[2.]])"
      ]
     },
     "execution_count": 28,
     "metadata": {},
     "output_type": "execute_result"
    }
   ],
   "source": [
    "x = tensor([1.], requires_grad=True)\n",
    "y = x**2\n",
    "display(y)\n",
    "y.backward(gradient=tensor([2.]))\n",
    "display(x.grad)\n",
    "vT = tensor([2.]])\n",
    "J = tensor([[2.]])\n",
    "mm(vT,J)"
   ]
  },
  {
   "cell_type": "code",
   "execution_count": 12,
   "metadata": {},
   "outputs": [
    {
     "data": {
      "text/plain": [
       "tensor(1., grad_fn=<PowBackward0>)"
      ]
     },
     "metadata": {},
     "output_type": "display_data"
    },
    {
     "data": {
      "text/plain": [
       "tensor(4.)"
      ]
     },
     "metadata": {},
     "output_type": "display_data"
    }
   ],
   "source": [
    "x = tensor(1., requires_grad=True)\n",
    "y = x**2\n",
    "display(y)\n",
    "y.backward(gradient=tensor(2.))\n",
    "display(x.grad)"
   ]
  },
  {
   "cell_type": "code",
   "execution_count": 13,
   "metadata": {},
   "outputs": [
    {
     "data": {
      "text/plain": [
       "tensor(1., grad_fn=<PowBackward0>)"
      ]
     },
     "metadata": {},
     "output_type": "display_data"
    },
    {
     "data": {
      "text/plain": [
       "tensor(4.)"
      ]
     },
     "metadata": {},
     "output_type": "display_data"
    }
   ],
   "source": [
    "x = tensor(1., requires_grad=True)\n",
    "y = x**2\n",
    "display(y)\n",
    "y.backward(gradient=tensor([1.,1.]))\n",
    "display(x.grad)"
   ]
  },
  {
   "cell_type": "code",
   "execution_count": 14,
   "metadata": {},
   "outputs": [
    {
     "data": {
      "text/plain": [
       "tensor(1., grad_fn=<PowBackward0>)"
      ]
     },
     "metadata": {},
     "output_type": "display_data"
    },
    {
     "data": {
      "text/plain": [
       "tensor(22.)"
      ]
     },
     "metadata": {},
     "output_type": "display_data"
    }
   ],
   "source": [
    "x = tensor(1., requires_grad=True)\n",
    "y = x**2\n",
    "display(y)\n",
    "y.backward(gradient=tensor([1.,10.]))\n",
    "display(x.grad)"
   ]
  },
  {
   "cell_type": "code",
   "execution_count": 15,
   "metadata": {},
   "outputs": [
    {
     "data": {
      "text/plain": [
       "tensor([1.], grad_fn=<PowBackward0>)"
      ]
     },
     "metadata": {},
     "output_type": "display_data"
    },
    {
     "data": {
      "text/plain": [
       "tensor([22.])"
      ]
     },
     "metadata": {},
     "output_type": "display_data"
    }
   ],
   "source": [
    "x = tensor([1.], requires_grad=True)\n",
    "y = x**2\n",
    "display(y)\n",
    "y.backward(gradient=tensor([1.,10.]))\n",
    "display(x.grad)"
   ]
  },
  {
   "cell_type": "code",
   "execution_count": 17,
   "metadata": {},
   "outputs": [
    {
     "data": {
      "text/plain": [
       "tensor([1., 1.], grad_fn=<PowBackward0>)"
      ]
     },
     "metadata": {},
     "output_type": "display_data"
    },
    {
     "ename": "RuntimeError",
     "evalue": "grad can be implicitly created only for scalar outputs",
     "output_type": "error",
     "traceback": [
      "\u001b[0;31m---------------------------------------------------------------------------\u001b[0m",
      "\u001b[0;31mRuntimeError\u001b[0m                              Traceback (most recent call last)",
      "\u001b[0;32m<ipython-input-17-37f89963bf1e>\u001b[0m in \u001b[0;36m<module>\u001b[0;34m\u001b[0m\n\u001b[1;32m      2\u001b[0m \u001b[0my\u001b[0m \u001b[0;34m=\u001b[0m \u001b[0mx\u001b[0m\u001b[0;34m**\u001b[0m\u001b[0;36m2\u001b[0m\u001b[0;34m\u001b[0m\u001b[0m\n\u001b[1;32m      3\u001b[0m \u001b[0mdisplay\u001b[0m\u001b[0;34m(\u001b[0m\u001b[0my\u001b[0m\u001b[0;34m)\u001b[0m\u001b[0;34m\u001b[0m\u001b[0m\n\u001b[0;32m----> 4\u001b[0;31m \u001b[0my\u001b[0m\u001b[0;34m.\u001b[0m\u001b[0mbackward\u001b[0m\u001b[0;34m(\u001b[0m\u001b[0;34m)\u001b[0m\u001b[0;34m\u001b[0m\u001b[0m\n\u001b[0m\u001b[1;32m      5\u001b[0m \u001b[0mdisplay\u001b[0m\u001b[0;34m(\u001b[0m\u001b[0mx\u001b[0m\u001b[0;34m.\u001b[0m\u001b[0mgrad\u001b[0m\u001b[0;34m)\u001b[0m\u001b[0;34m\u001b[0m\u001b[0m\n",
      "\u001b[0;32m~/anaconda3/envs/fastaiv1-cpu/lib/python3.7/site-packages/torch/tensor.py\u001b[0m in \u001b[0;36mbackward\u001b[0;34m(self, gradient, retain_graph, create_graph)\u001b[0m\n\u001b[1;32m    100\u001b[0m                 \u001b[0mproducts\u001b[0m\u001b[0;34m.\u001b[0m \u001b[0mDefaults\u001b[0m \u001b[0mto\u001b[0m\u001b[0;31m \u001b[0m\u001b[0;31m`\u001b[0m\u001b[0;31m`\u001b[0m\u001b[0;32mFalse\u001b[0m\u001b[0;31m`\u001b[0m\u001b[0;31m`\u001b[0m\u001b[0;34m.\u001b[0m\u001b[0;34m\u001b[0m\u001b[0m\n\u001b[1;32m    101\u001b[0m         \"\"\"\n\u001b[0;32m--> 102\u001b[0;31m         \u001b[0mtorch\u001b[0m\u001b[0;34m.\u001b[0m\u001b[0mautograd\u001b[0m\u001b[0;34m.\u001b[0m\u001b[0mbackward\u001b[0m\u001b[0;34m(\u001b[0m\u001b[0mself\u001b[0m\u001b[0;34m,\u001b[0m \u001b[0mgradient\u001b[0m\u001b[0;34m,\u001b[0m \u001b[0mretain_graph\u001b[0m\u001b[0;34m,\u001b[0m \u001b[0mcreate_graph\u001b[0m\u001b[0;34m)\u001b[0m\u001b[0;34m\u001b[0m\u001b[0m\n\u001b[0m\u001b[1;32m    103\u001b[0m \u001b[0;34m\u001b[0m\u001b[0m\n\u001b[1;32m    104\u001b[0m     \u001b[0;32mdef\u001b[0m \u001b[0mregister_hook\u001b[0m\u001b[0;34m(\u001b[0m\u001b[0mself\u001b[0m\u001b[0;34m,\u001b[0m \u001b[0mhook\u001b[0m\u001b[0;34m)\u001b[0m\u001b[0;34m:\u001b[0m\u001b[0;34m\u001b[0m\u001b[0m\n",
      "\u001b[0;32m~/anaconda3/envs/fastaiv1-cpu/lib/python3.7/site-packages/torch/autograd/__init__.py\u001b[0m in \u001b[0;36mbackward\u001b[0;34m(tensors, grad_tensors, retain_graph, create_graph, grad_variables)\u001b[0m\n\u001b[1;32m     82\u001b[0m         \u001b[0mgrad_tensors\u001b[0m \u001b[0;34m=\u001b[0m \u001b[0mlist\u001b[0m\u001b[0;34m(\u001b[0m\u001b[0mgrad_tensors\u001b[0m\u001b[0;34m)\u001b[0m\u001b[0;34m\u001b[0m\u001b[0m\n\u001b[1;32m     83\u001b[0m \u001b[0;34m\u001b[0m\u001b[0m\n\u001b[0;32m---> 84\u001b[0;31m     \u001b[0mgrad_tensors\u001b[0m \u001b[0;34m=\u001b[0m \u001b[0m_make_grads\u001b[0m\u001b[0;34m(\u001b[0m\u001b[0mtensors\u001b[0m\u001b[0;34m,\u001b[0m \u001b[0mgrad_tensors\u001b[0m\u001b[0;34m)\u001b[0m\u001b[0;34m\u001b[0m\u001b[0m\n\u001b[0m\u001b[1;32m     85\u001b[0m     \u001b[0;32mif\u001b[0m \u001b[0mretain_graph\u001b[0m \u001b[0;32mis\u001b[0m \u001b[0;32mNone\u001b[0m\u001b[0;34m:\u001b[0m\u001b[0;34m\u001b[0m\u001b[0m\n\u001b[1;32m     86\u001b[0m         \u001b[0mretain_graph\u001b[0m \u001b[0;34m=\u001b[0m \u001b[0mcreate_graph\u001b[0m\u001b[0;34m\u001b[0m\u001b[0m\n",
      "\u001b[0;32m~/anaconda3/envs/fastaiv1-cpu/lib/python3.7/site-packages/torch/autograd/__init__.py\u001b[0m in \u001b[0;36m_make_grads\u001b[0;34m(outputs, grads)\u001b[0m\n\u001b[1;32m     26\u001b[0m             \u001b[0;32mif\u001b[0m \u001b[0mout\u001b[0m\u001b[0;34m.\u001b[0m\u001b[0mrequires_grad\u001b[0m\u001b[0;34m:\u001b[0m\u001b[0;34m\u001b[0m\u001b[0m\n\u001b[1;32m     27\u001b[0m                 \u001b[0;32mif\u001b[0m \u001b[0mout\u001b[0m\u001b[0;34m.\u001b[0m\u001b[0mnumel\u001b[0m\u001b[0;34m(\u001b[0m\u001b[0;34m)\u001b[0m \u001b[0;34m!=\u001b[0m \u001b[0;36m1\u001b[0m\u001b[0;34m:\u001b[0m\u001b[0;34m\u001b[0m\u001b[0m\n\u001b[0;32m---> 28\u001b[0;31m                     \u001b[0;32mraise\u001b[0m \u001b[0mRuntimeError\u001b[0m\u001b[0;34m(\u001b[0m\u001b[0;34m\"grad can be implicitly created only for scalar outputs\"\u001b[0m\u001b[0;34m)\u001b[0m\u001b[0;34m\u001b[0m\u001b[0m\n\u001b[0m\u001b[1;32m     29\u001b[0m                 \u001b[0mnew_grads\u001b[0m\u001b[0;34m.\u001b[0m\u001b[0mappend\u001b[0m\u001b[0;34m(\u001b[0m\u001b[0mtorch\u001b[0m\u001b[0;34m.\u001b[0m\u001b[0mones_like\u001b[0m\u001b[0;34m(\u001b[0m\u001b[0mout\u001b[0m\u001b[0;34m)\u001b[0m\u001b[0;34m)\u001b[0m\u001b[0;34m\u001b[0m\u001b[0m\n\u001b[1;32m     30\u001b[0m             \u001b[0;32melse\u001b[0m\u001b[0;34m:\u001b[0m\u001b[0;34m\u001b[0m\u001b[0m\n",
      "\u001b[0;31mRuntimeError\u001b[0m: grad can be implicitly created only for scalar outputs"
     ]
    }
   ],
   "source": [
    "x = tensor([1., 1.], requires_grad=True)\n",
    "y = x**2\n",
    "display(y)\n",
    "y.backward()\n",
    "display(x.grad)"
   ]
  },
  {
   "cell_type": "code",
   "execution_count": null,
   "metadata": {},
   "outputs": [],
   "source": []
  }
 ],
 "metadata": {
  "kernelspec": {
   "display_name": "fastaiv1-cpu",
   "language": "python",
   "name": "fastaiv1-cpu"
  },
  "language_info": {
   "codemirror_mode": {
    "name": "ipython",
    "version": 3
   },
   "file_extension": ".py",
   "mimetype": "text/x-python",
   "name": "python",
   "nbconvert_exporter": "python",
   "pygments_lexer": "ipython3",
   "version": "3.7.0"
  },
  "toc": {
   "base_numbering": 1,
   "nav_menu": {},
   "number_sections": true,
   "sideBar": true,
   "skip_h1_title": false,
   "title_cell": "Table of Contents",
   "title_sidebar": "Contents",
   "toc_cell": false,
   "toc_position": {},
   "toc_section_display": true,
   "toc_window_display": false
  }
 },
 "nbformat": 4,
 "nbformat_minor": 2
}
