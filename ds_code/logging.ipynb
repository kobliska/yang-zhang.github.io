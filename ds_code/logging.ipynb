{
 "cells": [
  {
   "cell_type": "code",
   "execution_count": 1,
   "metadata": {},
   "outputs": [
    {
     "name": "stderr",
     "output_type": "stream",
     "text": [
      "[2020-01-25 19:54:40] [DEBUG   ] This is a debug message\n",
      "[2020-01-25 19:54:40] [INFO    ] This is an info message\n",
      "[2020-01-25 19:54:40] [WARNING ] This is a warning message\n",
      "[2020-01-25 19:54:40] [ERROR   ] This is an error message\n",
      "[2020-01-25 19:54:40] [CRITICAL] This is a critical message\n"
     ]
    }
   ],
   "source": [
    "import logging\n",
    "log = logging.getLogger(__name__)\n",
    "log.setLevel(level=logging.DEBUG)\n",
    "\n",
    "fmtr = logging.Formatter(\"[%(asctime)s] [%(levelname)-8.8s] %(message)s\", \"%Y-%m-%d %H:%M:%S\")\n",
    "\n",
    "fhdlr = logging.FileHandler(f\"log.log\", mode='w')\n",
    "fhdlr.setFormatter(fmtr)\n",
    "log.addHandler(fhdlr)\n",
    "\n",
    "chdlr = logging.StreamHandler()\n",
    "chdlr.setFormatter(fmtr)\n",
    "log.addHandler(chdlr)\n",
    "\n",
    "log.debug('This is a debug message')\n",
    "log.info('This is an info message')\n",
    "log.warning('This is a warning message')\n",
    "log.error('This is an error message')\n",
    "log.critical('This is a critical message')"
   ]
  },
  {
   "cell_type": "code",
   "execution_count": 2,
   "metadata": {},
   "outputs": [
    {
     "name": "stdout",
     "output_type": "stream",
     "text": [
      "[2020-01-25 19:54:40] [DEBUG   ] This is a debug message\r\n",
      "[2020-01-25 19:54:40] [INFO    ] This is an info message\r\n",
      "[2020-01-25 19:54:40] [WARNING ] This is a warning message\r\n",
      "[2020-01-25 19:54:40] [ERROR   ] This is an error message\r\n",
      "[2020-01-25 19:54:40] [CRITICAL] This is a critical message\r\n"
     ]
    }
   ],
   "source": [
    "cat log.log"
   ]
  },
  {
   "cell_type": "code",
   "execution_count": null,
   "metadata": {},
   "outputs": [],
   "source": []
  },
  {
   "cell_type": "code",
   "execution_count": null,
   "metadata": {},
   "outputs": [],
   "source": []
  }
 ],
 "metadata": {
  "kernelspec": {
   "display_name": "Python 3",
   "language": "python",
   "name": "python3"
  },
  "language_info": {
   "codemirror_mode": {
    "name": "ipython",
    "version": 3
   },
   "file_extension": ".py",
   "mimetype": "text/x-python",
   "name": "python",
   "nbconvert_exporter": "python",
   "pygments_lexer": "ipython3",
   "version": "3.7.2"
  },
  "toc": {
   "base_numbering": 1,
   "nav_menu": {},
   "number_sections": true,
   "sideBar": true,
   "skip_h1_title": false,
   "title_cell": "Table of Contents",
   "title_sidebar": "Contents",
   "toc_cell": false,
   "toc_position": {},
   "toc_section_display": true,
   "toc_window_display": false
  }
 },
 "nbformat": 4,
 "nbformat_minor": 2
}
