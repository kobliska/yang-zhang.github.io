{
 "cells": [
  {
   "cell_type": "code",
   "execution_count": 1,
   "metadata": {},
   "outputs": [],
   "source": [
    "import torch"
   ]
  },
  {
   "cell_type": "code",
   "execution_count": 10,
   "metadata": {},
   "outputs": [
    {
     "data": {
      "text/plain": [
       "tensor([[4.5000, 4.5000],\n",
       "        [4.5000, 4.5000]])"
      ]
     },
     "execution_count": 10,
     "metadata": {},
     "output_type": "execute_result"
    }
   ],
   "source": [
    "x = torch.ones(2, 2, requires_grad=True)\n",
    "y = x + 2\n",
    "z = y * y * 3\n",
    "out = z.mean()\n",
    "out.backward()\n",
    "x.grad"
   ]
  },
  {
   "cell_type": "code",
   "execution_count": 11,
   "metadata": {},
   "outputs": [
    {
     "data": {
      "text/plain": [
       "tensor([[9., 9.],\n",
       "        [9., 9.]])"
      ]
     },
     "execution_count": 11,
     "metadata": {},
     "output_type": "execute_result"
    }
   ],
   "source": [
    "x = torch.ones(2, 2, requires_grad=True)\n",
    "y = x + 2\n",
    "z = y * y * 3\n",
    "out = z.mean()\n",
    "out.backward(gradient=torch.tensor(2.))\n",
    "\n",
    "x.grad"
   ]
  },
  {
   "cell_type": "code",
   "execution_count": 19,
   "metadata": {},
   "outputs": [
    {
     "data": {
      "text/plain": [
       "tensor([ 19., 109.])"
      ]
     },
     "execution_count": 19,
     "metadata": {},
     "output_type": "execute_result"
    }
   ],
   "source": [
    "x = torch.ones(2, requires_grad=True)\n",
    "y = x + 2\n",
    "y.backward(torch.tensor([10., 100]))\n",
    "z = y * y * 3\n",
    "out = z.mean()\n",
    "out.backward()\n",
    "\n",
    "x.grad"
   ]
  },
  {
   "cell_type": "markdown",
   "metadata": {},
   "source": [
    "https://stackoverflow.com/questions/43451125/pytorch-what-are-the-gradient-arguments"
   ]
  },
  {
   "cell_type": "code",
   "execution_count": 21,
   "metadata": {},
   "outputs": [
    {
     "name": "stdout",
     "output_type": "stream",
     "text": [
      "tensor([3., 3., 3.])\n",
      "tensor([12., 16., 20.])\n",
      "tensor([0.1667, 0.1429, 0.1250])\n"
     ]
    }
   ],
   "source": [
    "a = torch.tensor([1.0, 2.0, 3.0], requires_grad = True)\n",
    "b = torch.tensor([3.0, 4.0, 5.0], requires_grad = True)\n",
    "c = torch.tensor([6.0, 7.0, 8.0], requires_grad = True)\n",
    "\n",
    "y=3*a + 2*b*b + torch.log(c)    \n",
    "gradients = torch.ones(3)\n",
    "y.backward(gradients)  \n",
    "print(a.grad) # tensor([3.0000e-01, 3.0000e+00, 3.0000e-04])\n",
    "print(b.grad) # tensor([1.2000e+00, 1.6000e+01, 2.0000e-03])\n",
    "print(c.grad) # tensor([1.6667e-02, 1.4286e-01, 1.2500e-05])"
   ]
  },
  {
   "cell_type": "code",
   "execution_count": 22,
   "metadata": {},
   "outputs": [
    {
     "name": "stdout",
     "output_type": "stream",
     "text": [
      "tensor([3.0000e-01, 3.0000e+00, 3.0000e-04])\n",
      "tensor([1.2000e+00, 1.6000e+01, 2.0000e-03])\n",
      "tensor([1.6667e-02, 1.4286e-01, 1.2500e-05])\n"
     ]
    }
   ],
   "source": [
    "a = torch.tensor([1.0, 2.0, 3.0], requires_grad = True)\n",
    "b = torch.tensor([3.0, 4.0, 5.0], requires_grad = True)\n",
    "c = torch.tensor([6.0, 7.0, 8.0], requires_grad = True)\n",
    "\n",
    "y=3*a + 2*b*b + torch.log(c)    \n",
    "gradients = torch.tensor([0.1, 1.0, 0.0001])\n",
    "y.backward(gradients)  \n",
    "print(a.grad) # tensor([3.0000e-01, 3.0000e+00, 3.0000e-04])\n",
    "print(b.grad) # tensor([1.2000e+00, 1.6000e+01, 2.0000e-03])\n",
    "print(c.grad) # tensor([1.6667e-02, 1.4286e-01, 1.2500e-05])"
   ]
  },
  {
   "cell_type": "code",
   "execution_count": 32,
   "metadata": {},
   "outputs": [
    {
     "name": "stdout",
     "output_type": "stream",
     "text": [
      "tensor(3.3003)\n",
      "tensor(4.4004)\n",
      "tensor(1.1001)\n"
     ]
    }
   ],
   "source": [
    "a = torch.tensor(1.0, requires_grad = True)\n",
    "b = torch.tensor(1.0, requires_grad = True)\n",
    "c = torch.tensor(1.0, requires_grad = True)\n",
    "\n",
    "y=3*a + 2*b*b + torch.log(c)    \n",
    "gradients = torch.tensor([0.1, 1.0, 0.0001])\n",
    "y.backward(gradients)\n",
    "\n",
    "print(a.grad) # tensor(3.3003)\n",
    "print(b.grad) # tensor(4.4004)\n",
    "print(c.grad) # tensor(1.1001)"
   ]
  },
  {
   "cell_type": "code",
   "execution_count": 42,
   "metadata": {},
   "outputs": [
    {
     "name": "stdout",
     "output_type": "stream",
     "text": [
      "tensor(603.3003)\n",
      "tensor(804.4004)\n",
      "tensor(201.1001)\n"
     ]
    }
   ],
   "source": [
    "a = torch.tensor(1.0, requires_grad = True)\n",
    "b = torch.tensor(1.0, requires_grad = True)\n",
    "c = torch.tensor(1.0, requires_grad = True)\n",
    "\n",
    "y=3*a + 2*b*b + torch.log(c)    \n",
    "gradients = torch.tensor([0.1, 1.0, 0.0001, 200])\n",
    "y.backward(gradients)\n",
    "\n",
    "print(a.grad) # tensor(3.3003)\n",
    "print(b.grad) # tensor(4.4004)\n",
    "print(c.grad) # tensor(1.1001)"
   ]
  },
  {
   "cell_type": "code",
   "execution_count": 48,
   "metadata": {},
   "outputs": [
    {
     "data": {
      "text/plain": [
       "tensor(4.)"
      ]
     },
     "execution_count": 48,
     "metadata": {},
     "output_type": "execute_result"
    }
   ],
   "source": [
    "x = torch.tensor(1.0, requires_grad=True)\n",
    "y = 2*x*x\n",
    "gradients = torch.tensor([1.])\n",
    "y.backward(gradients)\n",
    "x.grad"
   ]
  },
  {
   "cell_type": "code",
   "execution_count": 47,
   "metadata": {},
   "outputs": [
    {
     "data": {
      "text/plain": [
       "tensor(444.)"
      ]
     },
     "execution_count": 47,
     "metadata": {},
     "output_type": "execute_result"
    }
   ],
   "source": [
    "x = torch.tensor(1.0, requires_grad=True)\n",
    "y = 2*x*x\n",
    "gradients = torch.tensor([1., 10, 100])\n",
    "y.backward(gradients)\n",
    "x.grad"
   ]
  },
  {
   "cell_type": "code",
   "execution_count": null,
   "metadata": {},
   "outputs": [],
   "source": []
  }
 ],
 "metadata": {
  "kernelspec": {
   "display_name": "fastaiv1-cpu",
   "language": "python",
   "name": "fastaiv1-cpu"
  },
  "language_info": {
   "codemirror_mode": {
    "name": "ipython",
    "version": 3
   },
   "file_extension": ".py",
   "mimetype": "text/x-python",
   "name": "python",
   "nbconvert_exporter": "python",
   "pygments_lexer": "ipython3",
   "version": "3.7.0"
  },
  "toc": {
   "base_numbering": 1,
   "nav_menu": {},
   "number_sections": true,
   "sideBar": true,
   "skip_h1_title": false,
   "title_cell": "Table of Contents",
   "title_sidebar": "Contents",
   "toc_cell": false,
   "toc_position": {},
   "toc_section_display": true,
   "toc_window_display": false
  }
 },
 "nbformat": 4,
 "nbformat_minor": 2
}
