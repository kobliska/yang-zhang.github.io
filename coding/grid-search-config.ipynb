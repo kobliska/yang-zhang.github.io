{
 "cells": [
  {
   "cell_type": "code",
   "execution_count": 26,
   "metadata": {},
   "outputs": [],
   "source": [
    "params = dict(\n",
    "    model_name = ['base', 'large'],\n",
    "    learning_rate = [1e-3, 1e-4, 1e-5],\n",
    "    epochs = [3, 4, 5, 6], \n",
    ")"
   ]
  },
  {
   "cell_type": "markdown",
   "metadata": {},
   "source": [
    "### itertools product"
   ]
  },
  {
   "cell_type": "code",
   "execution_count": 43,
   "metadata": {},
   "outputs": [
    {
     "data": {
      "text/plain": [
       "(24, {'model_name': 'base', 'learning_rate': 0.001, 'epochs': 3})"
      ]
     },
     "execution_count": 43,
     "metadata": {},
     "output_type": "execute_result"
    }
   ],
   "source": [
    "# https://stackoverflow.com/questions/533905/get-the-cartesian-product-of-a-series-of-lists\n",
    "import itertools\n",
    "\n",
    "ks = params.keys()\n",
    "vss = list(itertools.product(*params.values()))\n",
    "len(vss), dict(zip(ks, vss[0]))"
   ]
  },
  {
   "cell_type": "code",
   "execution_count": 44,
   "metadata": {},
   "outputs": [
    {
     "data": {
      "text/plain": [
       "(24,\n",
       " [{'model_name': 'base', 'learning_rate': 0.001, 'epochs': 3},\n",
       "  {'model_name': 'base', 'learning_rate': 0.001, 'epochs': 4},\n",
       "  {'model_name': 'base', 'learning_rate': 0.001, 'epochs': 5},\n",
       "  {'model_name': 'base', 'learning_rate': 0.001, 'epochs': 6},\n",
       "  {'model_name': 'base', 'learning_rate': 0.0001, 'epochs': 3},\n",
       "  {'model_name': 'base', 'learning_rate': 0.0001, 'epochs': 4},\n",
       "  {'model_name': 'base', 'learning_rate': 0.0001, 'epochs': 5},\n",
       "  {'model_name': 'base', 'learning_rate': 0.0001, 'epochs': 6},\n",
       "  {'model_name': 'base', 'learning_rate': 1e-05, 'epochs': 3},\n",
       "  {'model_name': 'base', 'learning_rate': 1e-05, 'epochs': 4},\n",
       "  {'model_name': 'base', 'learning_rate': 1e-05, 'epochs': 5},\n",
       "  {'model_name': 'base', 'learning_rate': 1e-05, 'epochs': 6},\n",
       "  {'model_name': 'large', 'learning_rate': 0.001, 'epochs': 3},\n",
       "  {'model_name': 'large', 'learning_rate': 0.001, 'epochs': 4},\n",
       "  {'model_name': 'large', 'learning_rate': 0.001, 'epochs': 5},\n",
       "  {'model_name': 'large', 'learning_rate': 0.001, 'epochs': 6},\n",
       "  {'model_name': 'large', 'learning_rate': 0.0001, 'epochs': 3},\n",
       "  {'model_name': 'large', 'learning_rate': 0.0001, 'epochs': 4},\n",
       "  {'model_name': 'large', 'learning_rate': 0.0001, 'epochs': 5},\n",
       "  {'model_name': 'large', 'learning_rate': 0.0001, 'epochs': 6},\n",
       "  {'model_name': 'large', 'learning_rate': 1e-05, 'epochs': 3},\n",
       "  {'model_name': 'large', 'learning_rate': 1e-05, 'epochs': 4},\n",
       "  {'model_name': 'large', 'learning_rate': 1e-05, 'epochs': 5},\n",
       "  {'model_name': 'large', 'learning_rate': 1e-05, 'epochs': 6}])"
      ]
     },
     "execution_count": 44,
     "metadata": {},
     "output_type": "execute_result"
    }
   ],
   "source": [
    "lst_params = [dict(zip(ks, o)) for o in vss]\n",
    "len(lst_params), lst_params"
   ]
  },
  {
   "cell_type": "markdown",
   "metadata": {},
   "source": [
    "### iterative"
   ]
  },
  {
   "cell_type": "code",
   "execution_count": 45,
   "metadata": {},
   "outputs": [
    {
     "data": {
      "text/plain": [
       "(['base', 'large'], [0.001, 0.0001, 1e-05])"
      ]
     },
     "execution_count": 45,
     "metadata": {},
     "output_type": "execute_result"
    }
   ],
   "source": [
    "# https://www.geeksforgeeks.org/cartesian-product-of-any-number-of-sets/\n",
    "lst1, lst2 = params['model_name'], params['learning_rate']\n",
    "lst1, lst2"
   ]
  },
  {
   "cell_type": "code",
   "execution_count": 46,
   "metadata": {},
   "outputs": [
    {
     "data": {
      "text/plain": [
       "[['base', 0.001],\n",
       " ['base', 0.0001],\n",
       " ['base', 1e-05],\n",
       " ['large', 0.001],\n",
       " ['large', 0.0001],\n",
       " ['large', 1e-05]]"
      ]
     },
     "execution_count": 46,
     "metadata": {},
     "output_type": "execute_result"
    }
   ],
   "source": [
    "def cart_prd(lst1,lst2):\n",
    "    res=[]\n",
    "    for i in lst1:\n",
    "        for j in lst2:\n",
    "            if type(i) is not list:\n",
    "                i=[i,]\n",
    "            tmp = i[:]\n",
    "            tmp.append(j)\n",
    "            res.append(tmp)\n",
    "    return res\n",
    "lst1_2 = cart_prd(lst1,lst2)\n",
    "lst1_2"
   ]
  },
  {
   "cell_type": "code",
   "execution_count": 47,
   "metadata": {},
   "outputs": [
    {
     "data": {
      "text/plain": [
       "[['base', 0.001, 3],\n",
       " ['base', 0.001, 4],\n",
       " ['base', 0.001, 5],\n",
       " ['base', 0.001, 6],\n",
       " ['base', 0.0001, 3],\n",
       " ['base', 0.0001, 4],\n",
       " ['base', 0.0001, 5],\n",
       " ['base', 0.0001, 6],\n",
       " ['base', 1e-05, 3],\n",
       " ['base', 1e-05, 4],\n",
       " ['base', 1e-05, 5],\n",
       " ['base', 1e-05, 6],\n",
       " ['large', 0.001, 3],\n",
       " ['large', 0.001, 4],\n",
       " ['large', 0.001, 5],\n",
       " ['large', 0.001, 6],\n",
       " ['large', 0.0001, 3],\n",
       " ['large', 0.0001, 4],\n",
       " ['large', 0.0001, 5],\n",
       " ['large', 0.0001, 6],\n",
       " ['large', 1e-05, 3],\n",
       " ['large', 1e-05, 4],\n",
       " ['large', 1e-05, 5],\n",
       " ['large', 1e-05, 6]]"
      ]
     },
     "execution_count": 47,
     "metadata": {},
     "output_type": "execute_result"
    }
   ],
   "source": [
    "lst3 = params['epochs']\n",
    "cart_prd(lst1_2,lst3)"
   ]
  },
  {
   "cell_type": "code",
   "execution_count": 50,
   "metadata": {},
   "outputs": [
    {
     "data": {
      "text/plain": [
       "(24, {'model_name': 'base', 'learning_rate': 0.001, 'epochs': 3})"
      ]
     },
     "execution_count": 50,
     "metadata": {},
     "output_type": "execute_result"
    }
   ],
   "source": [
    "import functools\n",
    "\n",
    "ks = params.keys()\n",
    "vss = list(functools.reduce(cart_prd, params.values()))\n",
    "len(vss), dict(zip(ks, vss[0]))"
   ]
  },
  {
   "cell_type": "code",
   "execution_count": 51,
   "metadata": {},
   "outputs": [
    {
     "data": {
      "text/plain": [
       "(24,\n",
       " [{'model_name': 'base', 'learning_rate': 0.001, 'epochs': 3},\n",
       "  {'model_name': 'base', 'learning_rate': 0.001, 'epochs': 4},\n",
       "  {'model_name': 'base', 'learning_rate': 0.001, 'epochs': 5},\n",
       "  {'model_name': 'base', 'learning_rate': 0.001, 'epochs': 6},\n",
       "  {'model_name': 'base', 'learning_rate': 0.0001, 'epochs': 3},\n",
       "  {'model_name': 'base', 'learning_rate': 0.0001, 'epochs': 4},\n",
       "  {'model_name': 'base', 'learning_rate': 0.0001, 'epochs': 5},\n",
       "  {'model_name': 'base', 'learning_rate': 0.0001, 'epochs': 6},\n",
       "  {'model_name': 'base', 'learning_rate': 1e-05, 'epochs': 3},\n",
       "  {'model_name': 'base', 'learning_rate': 1e-05, 'epochs': 4},\n",
       "  {'model_name': 'base', 'learning_rate': 1e-05, 'epochs': 5},\n",
       "  {'model_name': 'base', 'learning_rate': 1e-05, 'epochs': 6},\n",
       "  {'model_name': 'large', 'learning_rate': 0.001, 'epochs': 3},\n",
       "  {'model_name': 'large', 'learning_rate': 0.001, 'epochs': 4},\n",
       "  {'model_name': 'large', 'learning_rate': 0.001, 'epochs': 5},\n",
       "  {'model_name': 'large', 'learning_rate': 0.001, 'epochs': 6},\n",
       "  {'model_name': 'large', 'learning_rate': 0.0001, 'epochs': 3},\n",
       "  {'model_name': 'large', 'learning_rate': 0.0001, 'epochs': 4},\n",
       "  {'model_name': 'large', 'learning_rate': 0.0001, 'epochs': 5},\n",
       "  {'model_name': 'large', 'learning_rate': 0.0001, 'epochs': 6},\n",
       "  {'model_name': 'large', 'learning_rate': 1e-05, 'epochs': 3},\n",
       "  {'model_name': 'large', 'learning_rate': 1e-05, 'epochs': 4},\n",
       "  {'model_name': 'large', 'learning_rate': 1e-05, 'epochs': 5},\n",
       "  {'model_name': 'large', 'learning_rate': 1e-05, 'epochs': 6}])"
      ]
     },
     "execution_count": 51,
     "metadata": {},
     "output_type": "execute_result"
    }
   ],
   "source": [
    "lst_params = [dict(zip(ks, o)) for o in vss]\n",
    "len(lst_params), lst_params"
   ]
  },
  {
   "cell_type": "markdown",
   "metadata": {},
   "source": [
    "### recursive"
   ]
  },
  {
   "cell_type": "markdown",
   "metadata": {},
   "source": [
    "https://stackoverflow.com/questions/10262215/how-to-create-cartesian-product-over-arbitrary-groups-of-numbers-in-java"
   ]
  },
  {
   "cell_type": "code",
   "execution_count": 133,
   "metadata": {},
   "outputs": [],
   "source": [
    "def combine(input, current, k):\n",
    "    if k==len(input):\n",
    "        print(current[:k])\n",
    "    else:\n",
    "        for j in input[k]:\n",
    "            current[k] = j\n",
    "            combine(input, current, k+1)"
   ]
  },
  {
   "cell_type": "code",
   "execution_count": 134,
   "metadata": {},
   "outputs": [
    {
     "data": {
      "text/plain": [
       "[['base', 'large'], [0.001, 0.0001, 1e-05], [3, 4, 5, 6]]"
      ]
     },
     "execution_count": 134,
     "metadata": {},
     "output_type": "execute_result"
    }
   ],
   "source": [
    "inputs = list(params.values())\n",
    "inputs"
   ]
  },
  {
   "cell_type": "code",
   "execution_count": 135,
   "metadata": {},
   "outputs": [
    {
     "name": "stdout",
     "output_type": "stream",
     "text": [
      "['base', 0.001, 3]\n",
      "['base', 0.001, 4]\n",
      "['base', 0.001, 5]\n",
      "['base', 0.001, 6]\n",
      "['base', 0.0001, 3]\n",
      "['base', 0.0001, 4]\n",
      "['base', 0.0001, 5]\n",
      "['base', 0.0001, 6]\n",
      "['base', 1e-05, 3]\n",
      "['base', 1e-05, 4]\n",
      "['base', 1e-05, 5]\n",
      "['base', 1e-05, 6]\n",
      "['large', 0.001, 3]\n",
      "['large', 0.001, 4]\n",
      "['large', 0.001, 5]\n",
      "['large', 0.001, 6]\n",
      "['large', 0.0001, 3]\n",
      "['large', 0.0001, 4]\n",
      "['large', 0.0001, 5]\n",
      "['large', 0.0001, 6]\n",
      "['large', 1e-05, 3]\n",
      "['large', 1e-05, 4]\n",
      "['large', 1e-05, 5]\n",
      "['large', 1e-05, 6]\n"
     ]
    }
   ],
   "source": [
    "combine(inputs, [0]*len(inputs), 0)"
   ]
  },
  {
   "cell_type": "code",
   "execution_count": 140,
   "metadata": {},
   "outputs": [],
   "source": [
    "def mk_grid(inputs):\n",
    "    lsts = []\n",
    "    \n",
    "    def combine(input, current, k):\n",
    "        if k==len(input):\n",
    "            lsts.append(current[:k])\n",
    "        else:\n",
    "            for j in input[k]:\n",
    "                current[k] = j\n",
    "                combine(input, current, k+1)\n",
    "                \n",
    "    combine(inputs,[0]*len(inputs),0)\n",
    "    return lsts"
   ]
  },
  {
   "cell_type": "code",
   "execution_count": 142,
   "metadata": {
    "scrolled": false
   },
   "outputs": [],
   "source": [
    "lsts = mk_grid(inputs)"
   ]
  },
  {
   "cell_type": "code",
   "execution_count": 143,
   "metadata": {},
   "outputs": [
    {
     "data": {
      "text/plain": [
       "[['base', 0.001, 3],\n",
       " ['base', 0.001, 4],\n",
       " ['base', 0.001, 5],\n",
       " ['base', 0.001, 6],\n",
       " ['base', 0.0001, 3],\n",
       " ['base', 0.0001, 4],\n",
       " ['base', 0.0001, 5],\n",
       " ['base', 0.0001, 6],\n",
       " ['base', 1e-05, 3],\n",
       " ['base', 1e-05, 4],\n",
       " ['base', 1e-05, 5],\n",
       " ['base', 1e-05, 6],\n",
       " ['large', 0.001, 3],\n",
       " ['large', 0.001, 4],\n",
       " ['large', 0.001, 5],\n",
       " ['large', 0.001, 6],\n",
       " ['large', 0.0001, 3],\n",
       " ['large', 0.0001, 4],\n",
       " ['large', 0.0001, 5],\n",
       " ['large', 0.0001, 6],\n",
       " ['large', 1e-05, 3],\n",
       " ['large', 1e-05, 4],\n",
       " ['large', 1e-05, 5],\n",
       " ['large', 1e-05, 6]]"
      ]
     },
     "execution_count": 143,
     "metadata": {},
     "output_type": "execute_result"
    }
   ],
   "source": [
    "lsts"
   ]
  },
  {
   "cell_type": "code",
   "execution_count": null,
   "metadata": {},
   "outputs": [],
   "source": []
  },
  {
   "cell_type": "code",
   "execution_count": null,
   "metadata": {},
   "outputs": [],
   "source": []
  }
 ],
 "metadata": {
  "kernelspec": {
   "display_name": "Python 3",
   "language": "python",
   "name": "python3"
  },
  "language_info": {
   "codemirror_mode": {
    "name": "ipython",
    "version": 3
   },
   "file_extension": ".py",
   "mimetype": "text/x-python",
   "name": "python",
   "nbconvert_exporter": "python",
   "pygments_lexer": "ipython3",
   "version": "3.7.2"
  },
  "toc": {
   "base_numbering": 1,
   "nav_menu": {},
   "number_sections": true,
   "sideBar": true,
   "skip_h1_title": false,
   "title_cell": "Table of Contents",
   "title_sidebar": "Contents",
   "toc_cell": false,
   "toc_position": {},
   "toc_section_display": true,
   "toc_window_display": true
  }
 },
 "nbformat": 4,
 "nbformat_minor": 2
}
